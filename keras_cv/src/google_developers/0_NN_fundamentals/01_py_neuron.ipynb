{
 "cells": [
  {
   "cell_type": "markdown",
   "metadata": {},
   "source": [
    "# Una neurona simple\n",
    "\n",
    "El modelo de una neurona en una red neuronal incorpora entradas, pesos y sesgos para imitar la funcionalidad básica de las neuronas biológicas y permitir que la red aprenda patrones complejos.\n",
    "\n",
    "\n",
    "Entradas (inputs):\n",
    "Representan los datos o características que se introducen en la neurona. En un contexto biológico, son *análogas a las señales recibidas de otras neuronas a través de las sinapsis*.\n",
    "\n",
    "\n",
    "Pesos (weights) :\n",
    "Cada entrada está asociada a un peso, que representa la *fuerza o importancia de esa entrada*. Los pesos son cruciales para el aprendizaje porque se ajustan durante el entrenamiento para capturar las relaciones entre las entradas y las salidas deseadas. *Biológicamente, esto es similar a las diferentes fortalezas de las conexiones sinápticas*.\n",
    "\n",
    "\n",
    "Sesgo:\n",
    "El sesgo es un parámetro adicional que permite que la neurona cambie su función de activación. *Ayuda a la neurona a aprender patrones que no necesariamente pasan por el origen*. Biológicamente, esto puede considerarse como la *tendencia inherente de la neurona a activarse o permanecer inactiva*.\n",
    "\n",
    "\n",
    "Este modelo permite que las redes neuronales se aproximen a funciones complejas y aprendan patrones en los datos. Al ajustar pesos y sesgos, la red puede adaptarse para reconocer diversas características y hacer predicciones.\n",
    "\n",
    "![alt text](/workspaces/learn_deep_learning_tf_pytorch_jax/keras_cv/src/google_developers/0_NN_fundamentals/image.png)"
   ]
  },
  {
   "cell_type": "code",
   "execution_count": 1,
   "metadata": {},
   "outputs": [],
   "source": [
    "#importaciones\n",
    "import random\n",
    "import numpy as np"
   ]
  },
  {
   "cell_type": "markdown",
   "metadata": {},
   "source": [
    "## Inicio\n",
    "pesos (weights) -> aleatorios (random)\n",
    "\n",
    "sesgos (biases) -> cero\n",
    "\n",
    "- Ambos cambian durante el entrenamiento y ellos son quienes hacen que el modelo funcione (o no)\n",
    "\n",
    "- Los sesgos no están asociados a las entradas (inputs) y hay un sesgo por neurona\n",
    "\n",
    "- Los pesos están asociados con las entradas\n",
    "\n"
   ]
  },
  {
   "cell_type": "code",
   "execution_count": 2,
   "metadata": {},
   "outputs": [],
   "source": [
    "# El generador aleatorio criptográficamente seguro\n",
    "# genera números aleatorios utilizando\n",
    "# métodos de sincronización para garantizar que\n",
    "# dos procesos no puedan obtener el mismo número\n",
    "# al mismo tiempo. Si está produciendo\n",
    "# números flotantes aleatorios para una aplicación sensible a la seguridad,\n",
    "# entonces debe utilizar este enfoque.\n",
    "secure_random = random.SystemRandom()\n",
    "w1, w2, w3 = [x/100 for x in secure_random.sample(range(-100, 100), 3)]"
   ]
  },
  {
   "cell_type": "markdown",
   "metadata": {},
   "source": [
    "entrada (input) -> datos de entrenamiento\n",
    "\n",
    "o\n",
    "\n",
    "entrada (input) -> salidas de las neurona de la capa (layer) anterior"
   ]
  },
  {
   "cell_type": "code",
   "execution_count": 3,
   "metadata": {},
   "outputs": [],
   "source": [
    "i1, i2, i3 = secure_random.sample(range(1, 100), 3)"
   ]
  },
  {
   "cell_type": "markdown",
   "metadata": {},
   "source": [
    "Para propósitos didácticos, seleccionamos un sesgo (bias) aleatorio"
   ]
  },
  {
   "cell_type": "code",
   "execution_count": 4,
   "metadata": {},
   "outputs": [],
   "source": [
    "b=secure_random.sample(range(1, 10),1)[0]"
   ]
  },
  {
   "cell_type": "code",
   "execution_count": 5,
   "metadata": {},
   "outputs": [
    {
     "data": {
      "text/plain": [
       "6"
      ]
     },
     "execution_count": 5,
     "metadata": {},
     "output_type": "execute_result"
    }
   ],
   "source": [
    "b"
   ]
  },
  {
   "cell_type": "code",
   "execution_count": 6,
   "metadata": {},
   "outputs": [
    {
     "data": {
      "text/plain": [
       "6.880000000000001"
      ]
     },
     "execution_count": 6,
     "metadata": {},
     "output_type": "execute_result"
    }
   ],
   "source": [
    "output=i1*w1+i2*w2+i3*w3+b\n",
    "output"
   ]
  },
  {
   "cell_type": "markdown",
   "metadata": {},
   "source": [
    "N entradas (inputs) implica N (pesos)"
   ]
  },
  {
   "cell_type": "code",
   "execution_count": 7,
   "metadata": {},
   "outputs": [
    {
     "data": {
      "text/plain": [
       "3"
      ]
     },
     "execution_count": 7,
     "metadata": {},
     "output_type": "execute_result"
    }
   ],
   "source": [
    "# Ejemplo de producto punto: 1*3+0*100\n",
    "np.dot([1,0],[3,100])"
   ]
  },
  {
   "cell_type": "code",
   "execution_count": 8,
   "metadata": {},
   "outputs": [
    {
     "data": {
      "text/plain": [
       "-241.77999999999994"
      ]
     },
     "execution_count": 8,
     "metadata": {},
     "output_type": "execute_result"
    }
   ],
   "source": [
    "N = 75\n",
    "weights = [x/100 for x in secure_random.sample(range(-100, 100), N)]\n",
    "inputs = secure_random.sample(range(1, 100), N)\n",
    "bias = secure_random.sample(range(1, 10),1)[0]\n",
    "output = np.dot(weights,inputs)+bias\n",
    "output"
   ]
  }
 ],
 "metadata": {
  "kernelspec": {
   "display_name": "Python 3",
   "language": "python",
   "name": "python3"
  },
  "language_info": {
   "codemirror_mode": {
    "name": "ipython",
    "version": 3
   },
   "file_extension": ".py",
   "mimetype": "text/x-python",
   "name": "python",
   "nbconvert_exporter": "python",
   "pygments_lexer": "ipython3",
   "version": "3.9.20"
  }
 },
 "nbformat": 4,
 "nbformat_minor": 2
}
