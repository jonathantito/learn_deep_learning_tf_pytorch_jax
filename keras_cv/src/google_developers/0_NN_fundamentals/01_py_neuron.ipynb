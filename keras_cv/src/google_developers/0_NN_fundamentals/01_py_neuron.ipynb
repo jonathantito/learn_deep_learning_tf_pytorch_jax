{
 "cells": [
  {
   "cell_type": "markdown",
   "metadata": {},
   "source": [
    "# A single neuron"
   ]
  },
  {
   "cell_type": "code",
   "execution_count": 11,
   "metadata": {},
   "outputs": [],
   "source": [
    "#imports\n",
    "import random\n",
    "import numpy as np"
   ]
  },
  {
   "cell_type": "markdown",
   "metadata": {},
   "source": [
    "## Start\n",
    "weights -> random\n",
    "\n",
    "biases -> zero\n",
    "\n",
    "- Both changes during training and they are what make a model actually work (or not work).\n",
    "\n",
    "- Bias not associated with any input and there is one bias per neuron\n",
    "\n",
    "- Weights are associated with the input"
   ]
  },
  {
   "cell_type": "code",
   "execution_count": 2,
   "metadata": {},
   "outputs": [],
   "source": [
    "# The cryptographically secure random\n",
    "# generator generates random numbers using \n",
    "# synchronization methods to ensure that no \n",
    "# two processes can obtain the same number \n",
    "# at the same time. If you are producing random \n",
    "# floats for a security-sensitive application, \n",
    "# then you must use this approach.\n",
    "secure_random = random.SystemRandom()\n",
    "w1, w2, w3 = [x/100 for x in secure_random.sample(range(-100, 100), 3)]"
   ]
  },
  {
   "cell_type": "markdown",
   "metadata": {},
   "source": [
    "input -> actual training data \n",
    "\n",
    "or \n",
    "\n",
    "input -> outputs of neurons from the previous layer"
   ]
  },
  {
   "cell_type": "code",
   "execution_count": 3,
   "metadata": {},
   "outputs": [],
   "source": [
    "i1, i2, i3 = secure_random.sample(range(1, 100), 3)"
   ]
  },
  {
   "cell_type": "markdown",
   "metadata": {},
   "source": [
    "For the example we select a random bias value"
   ]
  },
  {
   "cell_type": "code",
   "execution_count": 7,
   "metadata": {},
   "outputs": [],
   "source": [
    "b=secure_random.sample(range(1, 10),1)[0]"
   ]
  },
  {
   "cell_type": "code",
   "execution_count": 8,
   "metadata": {},
   "outputs": [
    {
     "data": {
      "text/plain": [
       "6"
      ]
     },
     "execution_count": 8,
     "metadata": {},
     "output_type": "execute_result"
    }
   ],
   "source": [
    "b"
   ]
  },
  {
   "cell_type": "code",
   "execution_count": 9,
   "metadata": {},
   "outputs": [
    {
     "data": {
      "text/plain": [
       "46.109999999999985"
      ]
     },
     "execution_count": 9,
     "metadata": {},
     "output_type": "execute_result"
    }
   ],
   "source": [
    "output=i1*w1+i2*w2+i3*w3+b\n",
    "output"
   ]
  },
  {
   "cell_type": "markdown",
   "metadata": {},
   "source": [
    "N inputs implies N weights"
   ]
  },
  {
   "cell_type": "code",
   "execution_count": 16,
   "metadata": {},
   "outputs": [
    {
     "data": {
      "text/plain": [
       "3"
      ]
     },
     "execution_count": 16,
     "metadata": {},
     "output_type": "execute_result"
    }
   ],
   "source": [
    "# Dot product example: 1*3+0*100\n",
    "np.dot([1,0],[3,100])"
   ]
  },
  {
   "cell_type": "code",
   "execution_count": 19,
   "metadata": {},
   "outputs": [
    {
     "data": {
      "text/plain": [
       "-248.08999999999992"
      ]
     },
     "execution_count": 19,
     "metadata": {},
     "output_type": "execute_result"
    }
   ],
   "source": [
    "N = 75\n",
    "weights = [x/100 for x in secure_random.sample(range(-100, 100), N)]\n",
    "inputs = secure_random.sample(range(1, 100), N)\n",
    "bias = secure_random.sample(range(1, 10),1)[0]\n",
    "output = np.dot(weights,inputs)+bias\n",
    "output"
   ]
  }
 ],
 "metadata": {
  "kernelspec": {
   "display_name": "Python 3",
   "language": "python",
   "name": "python3"
  },
  "language_info": {
   "codemirror_mode": {
    "name": "ipython",
    "version": 3
   },
   "file_extension": ".py",
   "mimetype": "text/x-python",
   "name": "python",
   "nbconvert_exporter": "python",
   "pygments_lexer": "ipython3",
   "version": "3.9.20"
  }
 },
 "nbformat": 4,
 "nbformat_minor": 2
}
