{
 "cells": [
  {
   "cell_type": "markdown",
   "metadata": {},
   "source": [
    "# A single layer"
   ]
  },
  {
   "cell_type": "markdown",
   "metadata": {},
   "source": [
    "A layer in NNs is a group of neurons (*tipically but not always* we have more than a neuron in a layer)\n",
    "\n",
    "- Input for the layer -> training data or the output from the previous layer\n",
    "\n",
    "- Each neuron has its own weights and bias"
   ]
  },
  {
   "cell_type": "code",
   "execution_count": 1,
   "metadata": {},
   "outputs": [],
   "source": [
    "#imports\n",
    "import random\n",
    "import numpy as np"
   ]
  },
  {
   "cell_type": "markdown",
   "metadata": {},
   "source": [
    "## Inputs"
   ]
  },
  {
   "cell_type": "code",
   "execution_count": 2,
   "metadata": {},
   "outputs": [],
   "source": [
    "# Number of inputs and weights\n",
    "N = 5\n",
    "secure_random = random.SystemRandom()\n",
    "inputs = secure_random.sample(range(1, 100), N)"
   ]
  },
  {
   "cell_type": "markdown",
   "metadata": {},
   "source": [
    "## Layer 1: neuron 1"
   ]
  },
  {
   "cell_type": "code",
   "execution_count": 3,
   "metadata": {},
   "outputs": [
    {
     "name": "stdout",
     "output_type": "stream",
     "text": [
      "[0.53, 0.63, 0.1, -0.9, 0.02]\n",
      "8\n"
     ]
    }
   ],
   "source": [
    "\n",
    "weights_n1 = [x/100 for x in secure_random.sample(range(-100, 100), N)]\n",
    "print(weights_n1)\n",
    "bias_n1 = secure_random.sample(range(1, 10),1)[0]\n",
    "print(bias_n1)\n"
   ]
  },
  {
   "cell_type": "markdown",
   "metadata": {},
   "source": [
    "## Layer 1: neuron 2"
   ]
  },
  {
   "cell_type": "code",
   "execution_count": 4,
   "metadata": {},
   "outputs": [
    {
     "name": "stdout",
     "output_type": "stream",
     "text": [
      "[0.79, 0.31, -0.26, -0.52, 0.65]\n",
      "2\n"
     ]
    }
   ],
   "source": [
    "weights_n2 = [x/100 for x in secure_random.sample(range(-100, 100), N)]\n",
    "print(weights_n2)\n",
    "bias_n2 = secure_random.sample(range(1, 10),1)[0]\n",
    "print(bias_n2)"
   ]
  },
  {
   "cell_type": "markdown",
   "metadata": {},
   "source": [
    "## Layer 1: neuron 3"
   ]
  },
  {
   "cell_type": "code",
   "execution_count": 5,
   "metadata": {},
   "outputs": [
    {
     "name": "stdout",
     "output_type": "stream",
     "text": [
      "[0.1, -0.33, 0.64, -1.0, 0.44]\n",
      "7\n"
     ]
    }
   ],
   "source": [
    "weights_n3 = [x/100 for x in secure_random.sample(range(-100, 100), N)]\n",
    "print(weights_n3)\n",
    "bias_n3 = secure_random.sample(range(1, 10),1)[0]\n",
    "print(bias_n3)"
   ]
  },
  {
   "cell_type": "markdown",
   "metadata": {},
   "source": [
    "## Output"
   ]
  },
  {
   "cell_type": "code",
   "execution_count": 6,
   "metadata": {},
   "outputs": [],
   "source": [
    "output=np.dot(inputs,weights_n1),np.dot(inputs,weights_n2),np.dot(inputs,weights_n3)"
   ]
  },
  {
   "cell_type": "code",
   "execution_count": 7,
   "metadata": {},
   "outputs": [
    {
     "data": {
      "text/plain": [
       "(59.53000000000001, 62.21, 12.060000000000002)"
      ]
     },
     "execution_count": 7,
     "metadata": {},
     "output_type": "execute_result"
    }
   ],
   "source": [
    "output"
   ]
  }
 ],
 "metadata": {
  "kernelspec": {
   "display_name": "Python 3",
   "language": "python",
   "name": "python3"
  },
  "language_info": {
   "codemirror_mode": {
    "name": "ipython",
    "version": 3
   },
   "file_extension": ".py",
   "mimetype": "text/x-python",
   "name": "python",
   "nbconvert_exporter": "python",
   "pygments_lexer": "ipython3",
   "version": "3.9.20"
  }
 },
 "nbformat": 4,
 "nbformat_minor": 2
}
